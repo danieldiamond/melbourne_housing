{
 "cells": [
  {
   "cell_type": "code",
   "execution_count": 1,
   "metadata": {},
   "outputs": [],
   "source": [
    "import pandas as pd\n",
    "import matplotlib.pyplot as plt\n",
    "import seaborn as sns\n",
    "import numpy as np\n",
    "%matplotlib inline\n",
    "# from sklearn.svm import SVC\n",
    "# from sklearn import model_selection\n",
    "pd.options.display.max_rows=100\n",
    "pd.options.display.max_columns=100"
   ]
  },
  {
   "cell_type": "code",
   "execution_count": 2,
   "metadata": {},
   "outputs": [
    {
     "data": {
      "text/plain": [
       "(18396, 21)"
      ]
     },
     "execution_count": 2,
     "metadata": {},
     "output_type": "execute_result"
    }
   ],
   "source": [
    "melbourne_data=pd.read_csv('melb_data.csv',index_col=0)\n",
    "melbourne_data.shape"
   ]
  },
  {
   "cell_type": "code",
   "execution_count": 3,
   "metadata": {},
   "outputs": [
    {
     "data": {
      "text/html": [
       "<div>\n",
       "<style scoped>\n",
       "    .dataframe tbody tr th:only-of-type {\n",
       "        vertical-align: middle;\n",
       "    }\n",
       "\n",
       "    .dataframe tbody tr th {\n",
       "        vertical-align: top;\n",
       "    }\n",
       "\n",
       "    .dataframe thead th {\n",
       "        text-align: right;\n",
       "    }\n",
       "</style>\n",
       "<table border=\"1\" class=\"dataframe\">\n",
       "  <thead>\n",
       "    <tr style=\"text-align: right;\">\n",
       "      <th></th>\n",
       "      <th>Suburb</th>\n",
       "      <th>Address</th>\n",
       "      <th>Rooms</th>\n",
       "      <th>Type</th>\n",
       "      <th>Price</th>\n",
       "      <th>Method</th>\n",
       "      <th>SellerG</th>\n",
       "      <th>Date</th>\n",
       "      <th>Distance</th>\n",
       "      <th>Postcode</th>\n",
       "      <th>Bedroom2</th>\n",
       "      <th>Bathroom</th>\n",
       "      <th>Car</th>\n",
       "      <th>Landsize</th>\n",
       "      <th>BuildingArea</th>\n",
       "      <th>YearBuilt</th>\n",
       "      <th>CouncilArea</th>\n",
       "      <th>Lattitude</th>\n",
       "      <th>Longtitude</th>\n",
       "      <th>Regionname</th>\n",
       "      <th>Propertycount</th>\n",
       "    </tr>\n",
       "  </thead>\n",
       "  <tbody>\n",
       "    <tr>\n",
       "      <th>1</th>\n",
       "      <td>Abbotsford</td>\n",
       "      <td>85 Turner St</td>\n",
       "      <td>2</td>\n",
       "      <td>h</td>\n",
       "      <td>1480000.0</td>\n",
       "      <td>S</td>\n",
       "      <td>Biggin</td>\n",
       "      <td>3/12/2016</td>\n",
       "      <td>2.5</td>\n",
       "      <td>3067.0</td>\n",
       "      <td>2.0</td>\n",
       "      <td>1.0</td>\n",
       "      <td>1.0</td>\n",
       "      <td>202.0</td>\n",
       "      <td>NaN</td>\n",
       "      <td>NaN</td>\n",
       "      <td>Yarra</td>\n",
       "      <td>-37.7996</td>\n",
       "      <td>144.9984</td>\n",
       "      <td>Northern Metropolitan</td>\n",
       "      <td>4019.0</td>\n",
       "    </tr>\n",
       "    <tr>\n",
       "      <th>2</th>\n",
       "      <td>Abbotsford</td>\n",
       "      <td>25 Bloomburg St</td>\n",
       "      <td>2</td>\n",
       "      <td>h</td>\n",
       "      <td>1035000.0</td>\n",
       "      <td>S</td>\n",
       "      <td>Biggin</td>\n",
       "      <td>4/02/2016</td>\n",
       "      <td>2.5</td>\n",
       "      <td>3067.0</td>\n",
       "      <td>2.0</td>\n",
       "      <td>1.0</td>\n",
       "      <td>0.0</td>\n",
       "      <td>156.0</td>\n",
       "      <td>79.0</td>\n",
       "      <td>1900.0</td>\n",
       "      <td>Yarra</td>\n",
       "      <td>-37.8079</td>\n",
       "      <td>144.9934</td>\n",
       "      <td>Northern Metropolitan</td>\n",
       "      <td>4019.0</td>\n",
       "    </tr>\n",
       "    <tr>\n",
       "      <th>4</th>\n",
       "      <td>Abbotsford</td>\n",
       "      <td>5 Charles St</td>\n",
       "      <td>3</td>\n",
       "      <td>h</td>\n",
       "      <td>1465000.0</td>\n",
       "      <td>SP</td>\n",
       "      <td>Biggin</td>\n",
       "      <td>4/03/2017</td>\n",
       "      <td>2.5</td>\n",
       "      <td>3067.0</td>\n",
       "      <td>3.0</td>\n",
       "      <td>2.0</td>\n",
       "      <td>0.0</td>\n",
       "      <td>134.0</td>\n",
       "      <td>150.0</td>\n",
       "      <td>1900.0</td>\n",
       "      <td>Yarra</td>\n",
       "      <td>-37.8093</td>\n",
       "      <td>144.9944</td>\n",
       "      <td>Northern Metropolitan</td>\n",
       "      <td>4019.0</td>\n",
       "    </tr>\n",
       "    <tr>\n",
       "      <th>5</th>\n",
       "      <td>Abbotsford</td>\n",
       "      <td>40 Federation La</td>\n",
       "      <td>3</td>\n",
       "      <td>h</td>\n",
       "      <td>850000.0</td>\n",
       "      <td>PI</td>\n",
       "      <td>Biggin</td>\n",
       "      <td>4/03/2017</td>\n",
       "      <td>2.5</td>\n",
       "      <td>3067.0</td>\n",
       "      <td>3.0</td>\n",
       "      <td>2.0</td>\n",
       "      <td>1.0</td>\n",
       "      <td>94.0</td>\n",
       "      <td>NaN</td>\n",
       "      <td>NaN</td>\n",
       "      <td>Yarra</td>\n",
       "      <td>-37.7969</td>\n",
       "      <td>144.9969</td>\n",
       "      <td>Northern Metropolitan</td>\n",
       "      <td>4019.0</td>\n",
       "    </tr>\n",
       "    <tr>\n",
       "      <th>6</th>\n",
       "      <td>Abbotsford</td>\n",
       "      <td>55a Park St</td>\n",
       "      <td>4</td>\n",
       "      <td>h</td>\n",
       "      <td>1600000.0</td>\n",
       "      <td>VB</td>\n",
       "      <td>Nelson</td>\n",
       "      <td>4/06/2016</td>\n",
       "      <td>2.5</td>\n",
       "      <td>3067.0</td>\n",
       "      <td>3.0</td>\n",
       "      <td>1.0</td>\n",
       "      <td>2.0</td>\n",
       "      <td>120.0</td>\n",
       "      <td>142.0</td>\n",
       "      <td>2014.0</td>\n",
       "      <td>Yarra</td>\n",
       "      <td>-37.8072</td>\n",
       "      <td>144.9941</td>\n",
       "      <td>Northern Metropolitan</td>\n",
       "      <td>4019.0</td>\n",
       "    </tr>\n",
       "  </tbody>\n",
       "</table>\n",
       "</div>"
      ],
      "text/plain": [
       "       Suburb           Address  Rooms Type      Price Method SellerG  \\\n",
       "1  Abbotsford      85 Turner St      2    h  1480000.0      S  Biggin   \n",
       "2  Abbotsford   25 Bloomburg St      2    h  1035000.0      S  Biggin   \n",
       "4  Abbotsford      5 Charles St      3    h  1465000.0     SP  Biggin   \n",
       "5  Abbotsford  40 Federation La      3    h   850000.0     PI  Biggin   \n",
       "6  Abbotsford       55a Park St      4    h  1600000.0     VB  Nelson   \n",
       "\n",
       "        Date  Distance  Postcode  Bedroom2  Bathroom  Car  Landsize  \\\n",
       "1  3/12/2016       2.5    3067.0       2.0       1.0  1.0     202.0   \n",
       "2  4/02/2016       2.5    3067.0       2.0       1.0  0.0     156.0   \n",
       "4  4/03/2017       2.5    3067.0       3.0       2.0  0.0     134.0   \n",
       "5  4/03/2017       2.5    3067.0       3.0       2.0  1.0      94.0   \n",
       "6  4/06/2016       2.5    3067.0       3.0       1.0  2.0     120.0   \n",
       "\n",
       "   BuildingArea  YearBuilt CouncilArea  Lattitude  Longtitude  \\\n",
       "1           NaN        NaN       Yarra   -37.7996    144.9984   \n",
       "2          79.0     1900.0       Yarra   -37.8079    144.9934   \n",
       "4         150.0     1900.0       Yarra   -37.8093    144.9944   \n",
       "5           NaN        NaN       Yarra   -37.7969    144.9969   \n",
       "6         142.0     2014.0       Yarra   -37.8072    144.9941   \n",
       "\n",
       "              Regionname  Propertycount  \n",
       "1  Northern Metropolitan         4019.0  \n",
       "2  Northern Metropolitan         4019.0  \n",
       "4  Northern Metropolitan         4019.0  \n",
       "5  Northern Metropolitan         4019.0  \n",
       "6  Northern Metropolitan         4019.0  "
      ]
     },
     "execution_count": 3,
     "metadata": {},
     "output_type": "execute_result"
    }
   ],
   "source": [
    "melbourne_data.head()"
   ]
  },
  {
   "cell_type": "markdown",
   "metadata": {},
   "source": [
    "# Exploratory Data Analysis (EDA)"
   ]
  },
  {
   "cell_type": "code",
   "execution_count": 4,
   "metadata": {},
   "outputs": [
    {
     "data": {
      "image/png": "[encoded data removed]",
      "text/plain": [
       "<Figure size 432x288 with 1 Axes>"
      ]
     },
     "metadata": {
      "needs_background": "light"
     },
     "output_type": "display_data"
    }
   ],
   "source": [
    "plt.hist(melbourne_data.Price,bins=10);"
   ]
  },
  {
   "cell_type": "code",
   "execution_count": 5,
   "metadata": {},
   "outputs": [
    {
     "name": "stdout",
     "output_type": "stream",
     "text": [
      "Description of Price ($1m)\n",
      "count    0.018396\n",
      "mean     1.056697\n",
      "std      0.641922\n",
      "min      0.085000\n",
      "25%      0.633000\n",
      "50%      0.880000\n",
      "75%      1.302000\n",
      "max      9.000000\n",
      "Name: Price, dtype: float64\n"
     ]
    }
   ],
   "source": [
    "print('Description of Price ($1m)')\n",
    "print(melbourne_data.Price.describe()/1000000)"
   ]
  },
  {
   "cell_type": "markdown",
   "metadata": {},
   "source": [
    "# 1. A Simple Model"
   ]
  },
  {
   "cell_type": "code",
   "execution_count": 6,
   "metadata": {},
   "outputs": [
    {
     "data": {
      "text/plain": [
       "(6858, 8)"
      ]
     },
     "execution_count": 6,
     "metadata": {},
     "output_type": "execute_result"
    }
   ],
   "source": [
    "melbourne_predictors = ['Rooms', 'Bathroom', 'Landsize', 'BuildingArea', \n",
    "                        'YearBuilt', 'Lattitude', 'Longtitude']\n",
    "\n",
    "df_basic=melbourne_data[melbourne_predictors+['Price']].dropna().copy()\n",
    "df_basic.shape"
   ]
  },
  {
   "cell_type": "markdown",
   "metadata": {},
   "source": [
    "NOTE: There are over 11,000 records of houses that contain missing information. As a result, df_basic contains clean 6858 rows instead of the 18396 original rows."
   ]
  },
  {
   "cell_type": "code",
   "execution_count": 7,
   "metadata": {},
   "outputs": [
    {
     "data": {
      "text/html": [
       "<div>\n",
       "<style scoped>\n",
       "    .dataframe tbody tr th:only-of-type {\n",
       "        vertical-align: middle;\n",
       "    }\n",
       "\n",
       "    .dataframe tbody tr th {\n",
       "        vertical-align: top;\n",
       "    }\n",
       "\n",
       "    .dataframe thead th {\n",
       "        text-align: right;\n",
       "    }\n",
       "</style>\n",
       "<table border=\"1\" class=\"dataframe\">\n",
       "  <thead>\n",
       "    <tr style=\"text-align: right;\">\n",
       "      <th></th>\n",
       "      <th>Rooms</th>\n",
       "      <th>Bathroom</th>\n",
       "      <th>Landsize</th>\n",
       "      <th>BuildingArea</th>\n",
       "      <th>YearBuilt</th>\n",
       "      <th>Lattitude</th>\n",
       "      <th>Longtitude</th>\n",
       "      <th>Price</th>\n",
       "    </tr>\n",
       "  </thead>\n",
       "  <tbody>\n",
       "    <tr>\n",
       "      <th>2</th>\n",
       "      <td>2</td>\n",
       "      <td>1.0</td>\n",
       "      <td>156.0</td>\n",
       "      <td>79.0</td>\n",
       "      <td>1900.0</td>\n",
       "      <td>-37.8079</td>\n",
       "      <td>144.9934</td>\n",
       "      <td>1035000.0</td>\n",
       "    </tr>\n",
       "    <tr>\n",
       "      <th>4</th>\n",
       "      <td>3</td>\n",
       "      <td>2.0</td>\n",
       "      <td>134.0</td>\n",
       "      <td>150.0</td>\n",
       "      <td>1900.0</td>\n",
       "      <td>-37.8093</td>\n",
       "      <td>144.9944</td>\n",
       "      <td>1465000.0</td>\n",
       "    </tr>\n",
       "    <tr>\n",
       "      <th>6</th>\n",
       "      <td>4</td>\n",
       "      <td>1.0</td>\n",
       "      <td>120.0</td>\n",
       "      <td>142.0</td>\n",
       "      <td>2014.0</td>\n",
       "      <td>-37.8072</td>\n",
       "      <td>144.9941</td>\n",
       "      <td>1600000.0</td>\n",
       "    </tr>\n",
       "    <tr>\n",
       "      <th>11</th>\n",
       "      <td>3</td>\n",
       "      <td>2.0</td>\n",
       "      <td>245.0</td>\n",
       "      <td>210.0</td>\n",
       "      <td>1910.0</td>\n",
       "      <td>-37.8024</td>\n",
       "      <td>144.9993</td>\n",
       "      <td>1876000.0</td>\n",
       "    </tr>\n",
       "    <tr>\n",
       "      <th>14</th>\n",
       "      <td>2</td>\n",
       "      <td>1.0</td>\n",
       "      <td>256.0</td>\n",
       "      <td>107.0</td>\n",
       "      <td>1890.0</td>\n",
       "      <td>-37.8060</td>\n",
       "      <td>144.9954</td>\n",
       "      <td>1636000.0</td>\n",
       "    </tr>\n",
       "  </tbody>\n",
       "</table>\n",
       "</div>"
      ],
      "text/plain": [
       "    Rooms  Bathroom  Landsize  BuildingArea  YearBuilt  Lattitude  Longtitude  \\\n",
       "2       2       1.0     156.0          79.0     1900.0   -37.8079    144.9934   \n",
       "4       3       2.0     134.0         150.0     1900.0   -37.8093    144.9944   \n",
       "6       4       1.0     120.0         142.0     2014.0   -37.8072    144.9941   \n",
       "11      3       2.0     245.0         210.0     1910.0   -37.8024    144.9993   \n",
       "14      2       1.0     256.0         107.0     1890.0   -37.8060    144.9954   \n",
       "\n",
       "        Price  \n",
       "2   1035000.0  \n",
       "4   1465000.0  \n",
       "6   1600000.0  \n",
       "11  1876000.0  \n",
       "14  1636000.0  "
      ]
     },
     "execution_count": 7,
     "metadata": {},
     "output_type": "execute_result"
    }
   ],
   "source": [
    "df_basic.head()"
   ]
  },
  {
   "cell_type": "code",
   "execution_count": 8,
   "metadata": {},
   "outputs": [],
   "source": [
    "# Prediction Target\n",
    "y=df_basic.Price"
   ]
  },
  {
   "cell_type": "code",
   "execution_count": 9,
   "metadata": {},
   "outputs": [],
   "source": [
    "# Predictors (start with Numerical Features)\n",
    "X = df_basic[melbourne_predictors]"
   ]
  },
  {
   "cell_type": "markdown",
   "metadata": {},
   "source": [
    "### Choose a Model"
   ]
  },
  {
   "cell_type": "code",
   "execution_count": 10,
   "metadata": {},
   "outputs": [],
   "source": [
    "from sklearn.tree import DecisionTreeRegressor"
   ]
  },
  {
   "cell_type": "code",
   "execution_count": 11,
   "metadata": {},
   "outputs": [
    {
     "data": {
      "text/plain": [
       "DecisionTreeRegressor(criterion='mse', max_depth=None, max_features=None,\n",
       "           max_leaf_nodes=None, min_impurity_decrease=0.0,\n",
       "           min_impurity_split=None, min_samples_leaf=1,\n",
       "           min_samples_split=2, min_weight_fraction_leaf=0.0,\n",
       "           presort=False, random_state=0, splitter='best')"
      ]
     },
     "execution_count": 11,
     "metadata": {},
     "output_type": "execute_result"
    }
   ],
   "source": [
    "# Define model\n",
    "model = DecisionTreeRegressor(random_state=0)\n",
    "\n",
    "# Fit model\n",
    "model.fit(X, y)"
   ]
  },
  {
   "cell_type": "code",
   "execution_count": 12,
   "metadata": {},
   "outputs": [
    {
     "name": "stdout",
     "output_type": "stream",
     "text": [
      "Making predictions for the following 5 houses:\n",
      "    Rooms  Bathroom  Landsize  BuildingArea  YearBuilt  Lattitude  Longtitude  \\\n",
      "2       2       1.0     156.0          79.0     1900.0   -37.8079    144.9934   \n",
      "4       3       2.0     134.0         150.0     1900.0   -37.8093    144.9944   \n",
      "6       4       1.0     120.0         142.0     2014.0   -37.8072    144.9941   \n",
      "11      3       2.0     245.0         210.0     1910.0   -37.8024    144.9993   \n",
      "14      2       1.0     256.0         107.0     1890.0   -37.8060    144.9954   \n",
      "\n",
      "        Price  \n",
      "2   1035000.0  \n",
      "4   1465000.0  \n",
      "6   1600000.0  \n",
      "11  1876000.0  \n",
      "14  1636000.0  \n",
      "The predictions are\n",
      "[1035000. 1465000. 1600000. 1876000. 1636000.]\n"
     ]
    }
   ],
   "source": [
    "print(\"Making predictions for the following 5 houses:\")\n",
    "print(df_basic[melbourne_predictors+['Price']].head())\n",
    "print(\"The predictions are\")\n",
    "print(model.predict(X.head()))"
   ]
  },
  {
   "cell_type": "markdown",
   "metadata": {},
   "source": [
    "These predictions appear to be 100% correct but predictions have been made on data that was used to create the model. We need to test the model against new data."
   ]
  },
  {
   "cell_type": "code",
   "execution_count": 13,
   "metadata": {},
   "outputs": [
    {
     "name": "stdout",
     "output_type": "stream",
     "text": [
      "Mean Absolute Error (MAE) = 392.75298920968214\n"
     ]
    }
   ],
   "source": [
    "from sklearn.metrics import mean_absolute_error,mean_squared_error\n",
    "\n",
    "predicted_home_prices = model.predict(X)\n",
    "print(\"Mean Absolute Error (MAE) =\",mean_absolute_error(y, predicted_home_prices))"
   ]
  },
  {
   "cell_type": "markdown",
   "metadata": {},
   "source": [
    "Furthermore, note that the MAE on this prediction set shown above appears to be extremely (and unrealistically) low."
   ]
  },
  {
   "cell_type": "markdown",
   "metadata": {},
   "source": [
    "### Split the data into a training and validation set"
   ]
  },
  {
   "cell_type": "code",
   "execution_count": 14,
   "metadata": {},
   "outputs": [],
   "source": [
    "from sklearn.model_selection import train_test_split"
   ]
  },
  {
   "cell_type": "code",
   "execution_count": 15,
   "metadata": {},
   "outputs": [
    {
     "name": "stdout",
     "output_type": "stream",
     "text": [
      "Mean Absolute Error (MAE) = 250681.4361516035\n"
     ]
    }
   ],
   "source": [
    "train_X, val_X, train_y, val_y = train_test_split(X, y,random_state=0)\n",
    "# Build and Fit Model\n",
    "model = DecisionTreeRegressor(random_state=0)\n",
    "model.fit(train_X, train_y)\n",
    "\n",
    "# Generate Predictions\n",
    "val_predictions = model.predict(val_X)\n",
    "print(\"Mean Absolute Error (MAE) =\",mean_absolute_error(val_y, val_predictions))"
   ]
  },
  {
   "cell_type": "markdown",
   "metadata": {},
   "source": [
    "After splitting the data into a training and testing set, the magnitude of error seems more realistic given the limited number of features and records used to build the model."
   ]
  },
  {
   "cell_type": "markdown",
   "metadata": {},
   "source": [
    "### Personal Functions"
   ]
  },
  {
   "cell_type": "markdown",
   "metadata": {},
   "source": [
    "Below, I have made a generic function that takes a dataframe and model type along with the option to impute missing values and return the RMSE of the model."
   ]
  },
  {
   "cell_type": "code",
   "execution_count": 87,
   "metadata": {},
   "outputs": [],
   "source": [
    "from sklearn.preprocessing import Imputer\n",
    "from xgboost import XGBRegressor\n",
    "from sklearn.ensemble import GradientBoostingRegressor,RandomForestClassifier\n",
    "from numpy.core.umath_tests import inner1d\n",
    "\n",
    "def get_mae(df,impute=False,max_leaf_nodes=None,max_depth=None,n_estimators=100,\\\n",
    "            early_stopping_rounds=None,learning_rate=0.10,\\\n",
    "            tree=DecisionTreeRegressor,rmse=False):\n",
    "    \n",
    "    if impute:\n",
    "        my_imputer = Imputer()\n",
    "        df = pd.DataFrame(my_imputer.fit_transform(df),columns=df.columns)\n",
    "    else:\n",
    "        df=df.dropna()\n",
    "               \n",
    "    # Predictors\n",
    "    X=df.drop('Price',axis=1)\n",
    "    \n",
    "    # Prediction Target\n",
    "    y=df.Price\n",
    "    \n",
    "    # Split into training and testing data\n",
    "    train_X, val_X, train_y, val_y = train_test_split(X, y,random_state=0)\n",
    "    \n",
    "    # Build and Fit Model\n",
    "    if tree == XGBRegressor:\n",
    "        model = tree(n_estimators=n_estimators,learning_rate=learning_rate,random_state=0)\n",
    "        model.fit(train_X, train_y, eval_set=[(val_X, val_y)],\\\n",
    "                  early_stopping_rounds=early_stopping_rounds, verbose=False)\n",
    "    elif tree == GradientBoostingRegressor:\n",
    "        model = tree(n_estimators=n_estimators,learning_rate=learning_rate,random_state=0)\n",
    "        model.fit(train_X, train_y)        \n",
    "    else:\n",
    "        model = tree(max_leaf_nodes=max_leaf_nodes, max_depth=max_depth, random_state=0)\n",
    "        model.fit(train_X, train_y)\n",
    "    \n",
    "    # Generate Predictions\n",
    "    val_predictions = model.predict(val_X)\n",
    "    \n",
    "    if rmse:\n",
    "        return np.sqrt(mean_squared_error(val_y, val_predictions))\n",
    "    else:\n",
    "        return mean_absolute_error(val_y, val_predictions)"
   ]
  },
  {
   "cell_type": "markdown",
   "metadata": {},
   "source": [
    "### Choice of Model"
   ]
  },
  {
   "cell_type": "markdown",
   "metadata": {},
   "source": [
    "Let's start with a simple Deceision Tree Model.<br>\n",
    "The <b>Decision Tree Regressor</b> is a non-parametric supervised learning model that learns simple decision rules inferred from the data features.<br><br>\n",
    "NOTE: It is essential to understand the characteristics associated with the model being implemented. The DecisionTreeRegressor has several parameters associated with it, such as max_depth and max_leaf_node, which ultimately determine if the tree is underfit or overfit."
   ]
  },
  {
   "cell_type": "code",
   "execution_count": 17,
   "metadata": {},
   "outputs": [
    {
     "name": "stdout",
     "output_type": "stream",
     "text": [
      "Max leaf nodes: 2  \t\t Mean Absolute Error:  422068\n",
      "Max leaf nodes: 5  \t\t Mean Absolute Error:  336338\n",
      "Max leaf nodes: 10  \t\t Mean Absolute Error:  303351\n",
      "Max leaf nodes: 100  \t\t Mean Absolute Error:  252517\n",
      "Max leaf nodes: 200  \t\t Mean Absolute Error:  247941\n",
      "Max leaf nodes: 500  \t\t Mean Absolute Error:  237072\n",
      "Max leaf nodes: 550  \t\t Mean Absolute Error:  237240\n",
      "Max leaf nodes: 1000  \t\t Mean Absolute Error:  243704\n",
      "Max leaf nodes: 2000  \t\t Mean Absolute Error:  251213\n"
     ]
    },
    {
     "data": {
      "image/png": "[encoded data removed]",
      "text/plain": [
       "<Figure size 432x288 with 1 Axes>"
      ]
     },
     "metadata": {
      "needs_background": "light"
     },
     "output_type": "display_data"
    }
   ],
   "source": [
    "mylist=[]\n",
    "for max_leaf_nodes in [2,5,10,100,200,500,550,1000,2000]:\n",
    "    my_mae = get_mae(df_basic,max_leaf_nodes=max_leaf_nodes)\n",
    "    mylist.append([max_leaf_nodes,my_mae])\n",
    "    print(\"Max leaf nodes: %d  \\t\\t Mean Absolute Error:  %d\" %(max_leaf_nodes, my_mae))\n",
    "plt.plot(*zip(*mylist));"
   ]
  },
  {
   "cell_type": "markdown",
   "metadata": {},
   "source": [
    "From the above graph we can find the optimal number of maximum leaf nodes."
   ]
  },
  {
   "cell_type": "code",
   "execution_count": 18,
   "metadata": {},
   "outputs": [
    {
     "name": "stdout",
     "output_type": "stream",
     "text": [
      "Mean Absolute Error (MAE) = 237072.56627885287\n"
     ]
    }
   ],
   "source": [
    "print(\"Mean Absolute Error (MAE) =\",get_mae(df_basic,max_leaf_nodes=500))"
   ]
  },
  {
   "cell_type": "code",
   "execution_count": 19,
   "metadata": {},
   "outputs": [
    {
     "name": "stdout",
     "output_type": "stream",
     "text": [
      "Max Depth: 1  \t\t Mean Absolute Error:  422068\n",
      "Max Depth: 2  \t\t Mean Absolute Error:  357724\n",
      "Max Depth: 5  \t\t Mean Absolute Error:  275715\n",
      "Max Depth: 7  \t\t Mean Absolute Error:  244533\n",
      "Max Depth: 8  \t\t Mean Absolute Error:  241666\n",
      "Max Depth: 9  \t\t Mean Absolute Error:  232022\n",
      "Max Depth: 10  \t\t Mean Absolute Error:  229104\n",
      "Max Depth: 11  \t\t Mean Absolute Error:  231714\n",
      "Max Depth: 15  \t\t Mean Absolute Error:  244623\n",
      "Max Depth: 30  \t\t Mean Absolute Error:  253159\n",
      "Max Depth: 60  \t\t Mean Absolute Error:  250681\n"
     ]
    },
    {
     "data": {
      "image/png": "[encoded data removed]",
      "text/plain": [
       "<Figure size 432x288 with 1 Axes>"
      ]
     },
     "metadata": {
      "needs_background": "light"
     },
     "output_type": "display_data"
    }
   ],
   "source": [
    "mylist=[]\n",
    "for max_depth in [1,2,5,7,8,9,10,11,15,30,60]:\n",
    "    my_mae = get_mae(df_basic,max_depth=max_depth)\n",
    "    mylist.append([max_depth,my_mae])\n",
    "    print(\"Max Depth: %d  \\t\\t Mean Absolute Error:  %d\" %(max_depth, my_mae))\n",
    "plt.plot(*zip(*mylist));"
   ]
  },
  {
   "cell_type": "code",
   "execution_count": 20,
   "metadata": {},
   "outputs": [
    {
     "name": "stdout",
     "output_type": "stream",
     "text": [
      "Mean Absolute Error (MAE) = 229104.1275110839\n"
     ]
    }
   ],
   "source": [
    "print(\"Mean Absolute Error (MAE) =\",get_mae(df_basic,max_depth=10))"
   ]
  },
  {
   "cell_type": "markdown",
   "metadata": {},
   "source": [
    "# 2. A Comprehensive Model - Dealing with Missing Values (Numerical Only)"
   ]
  },
  {
   "cell_type": "markdown",
   "metadata": {},
   "source": [
    "## Option 1: Remove Missing Data "
   ]
  },
  {
   "cell_type": "code",
   "execution_count": 21,
   "metadata": {},
   "outputs": [
    {
     "data": {
      "text/plain": [
       "(18396, 13)"
      ]
     },
     "execution_count": 21,
     "metadata": {},
     "output_type": "execute_result"
    }
   ],
   "source": [
    "df=melbourne_data.copy().select_dtypes(exclude=['object'])\n",
    "df.shape"
   ]
  },
  {
   "cell_type": "code",
   "execution_count": 22,
   "metadata": {},
   "outputs": [
    {
     "name": "stdout",
     "output_type": "stream",
     "text": [
      "Column Percentage Complete:\n",
      "Rooms            100.0\n",
      "Price            100.0\n",
      "Distance         100.0\n",
      "Postcode         100.0\n",
      "Bedroom2          81.0\n",
      "Bathroom          81.0\n",
      "Car               81.0\n",
      "Landsize          74.0\n",
      "BuildingArea      42.0\n",
      "YearBuilt         49.0\n",
      "Lattitude         82.0\n",
      "Longtitude        82.0\n",
      "Propertycount    100.0\n",
      "dtype: float64\n"
     ]
    }
   ],
   "source": [
    "print('Column Percentage Complete:\\n'+str((round(100*df.count()/df.count().max()))))"
   ]
  },
  {
   "cell_type": "code",
   "execution_count": 23,
   "metadata": {},
   "outputs": [
    {
     "name": "stdout",
     "output_type": "stream",
     "text": [
      "Reduced Rows (6830, 13)\n",
      "Reduced Columns (18396, 2)\n"
     ]
    }
   ],
   "source": [
    "reduced_rows_df = df.dropna(axis=0).copy()\n",
    "print('Reduced Rows',reduced_rows_df.shape)\n",
    "reduced_columns_df = df.dropna(axis=1).copy()\n",
    "print('Reduced Columns',reduced_columns_df.shape)"
   ]
  },
  {
   "cell_type": "code",
   "execution_count": 24,
   "metadata": {},
   "outputs": [
    {
     "name": "stdout",
     "output_type": "stream",
     "text": [
      "Reduced Rows Mean Absolute Error (MAE) = 249498.07552693208\n",
      "Reduced Columns Mean Absolute Error (MAE) = 388830.79890510987\n"
     ]
    }
   ],
   "source": [
    "print(\"Reduced Rows Mean Absolute Error (MAE) =\",get_mae(reduced_rows_df))\n",
    "print(\"Reduced Columns Mean Absolute Error (MAE) =\",get_mae(reduced_columns_df))"
   ]
  },
  {
   "cell_type": "markdown",
   "metadata": {},
   "source": [
    "As shown above, in the reduced columns dataframe, a significant portion of potentially useful data has been removed from the dataset. Hence, this is probably not the best option to proceed with dealing with missing data, especially given that many of the columns are at least 80% complete."
   ]
  },
  {
   "cell_type": "markdown",
   "metadata": {},
   "source": [
    "### A Note On Removing Missing Data"
   ]
  },
  {
   "cell_type": "markdown",
   "metadata": {},
   "source": [
    "- Removing Randomly Missing Data: Can potentially cause you to lose a large portion of your data.\n",
    "- Removing Non-Randomly Missing Data: Can potentially introduce biases in your dataset."
   ]
  },
  {
   "cell_type": "markdown",
   "metadata": {},
   "source": [
    "## Option 2: Impute Missing Data"
   ]
  },
  {
   "cell_type": "markdown",
   "metadata": {},
   "source": [
    "sklearn's Preprocessing package contains useful functions and transformer classes to modify the raw dataframe into more appropriate feature vectors. For example, the Imputer class infers missing values from the known part of the data.\n",
    "\n",
    "With incomplete datasets, the simplest method is to discard entire rows and/or columns containing missing values. However, as shown above, we may lose valuable albeit incomplete data. Thus, by imputing missing values, the valuable data can be retaining in the model building process."
   ]
  },
  {
   "cell_type": "code",
   "execution_count": 25,
   "metadata": {},
   "outputs": [],
   "source": [
    "from sklearn.preprocessing import Imputer"
   ]
  },
  {
   "cell_type": "code",
   "execution_count": 26,
   "metadata": {},
   "outputs": [
    {
     "data": {
      "text/plain": [
       "(18396, 13)"
      ]
     },
     "execution_count": 26,
     "metadata": {},
     "output_type": "execute_result"
    }
   ],
   "source": [
    "df_impute=melbourne_data.select_dtypes(exclude=['object']).copy()\n",
    "df_impute.shape"
   ]
  },
  {
   "cell_type": "code",
   "execution_count": 27,
   "metadata": {},
   "outputs": [
    {
     "data": {
      "text/plain": [
       "BuildingArea     10634\n",
       "YearBuilt         9438\n",
       "Landsize          4793\n",
       "Car               3576\n",
       "Bathroom          3471\n",
       "Bedroom2          3469\n",
       "Longtitude        3332\n",
       "Lattitude         3332\n",
       "Propertycount        1\n",
       "Postcode             1\n",
       "Distance             1\n",
       "Price                0\n",
       "Rooms                0\n",
       "dtype: int64"
      ]
     },
     "execution_count": 27,
     "metadata": {},
     "output_type": "execute_result"
    }
   ],
   "source": [
    "df_impute.isnull().sum().sort_values(ascending=False)"
   ]
  },
  {
   "cell_type": "code",
   "execution_count": 28,
   "metadata": {},
   "outputs": [],
   "source": [
    "my_imputer = Imputer()\n",
    "df_impute=pd.DataFrame(my_imputer.fit_transform(df_impute),columns=df_impute.columns)"
   ]
  },
  {
   "cell_type": "code",
   "execution_count": 29,
   "metadata": {},
   "outputs": [
    {
     "name": "stdout",
     "output_type": "stream",
     "text": [
      "Number of Missing Values:\n",
      "Series([], dtype: int64)\n"
     ]
    }
   ],
   "source": [
    "print('Number of Missing Values:\\n'+str(\n",
    "    (df_impute.shape[0]-df_impute.count())[(df_impute.shape[0]-df_impute.count())>0]))"
   ]
  },
  {
   "cell_type": "code",
   "execution_count": 30,
   "metadata": {},
   "outputs": [
    {
     "name": "stdout",
     "output_type": "stream",
     "text": [
      "Max leaf nodes: 2  \t\t Mean Absolute Error:  417969\n",
      "Max leaf nodes: 5  \t\t Mean Absolute Error:  358354\n",
      "Max leaf nodes: 10  \t\t Mean Absolute Error:  298210\n",
      "Max leaf nodes: 50  \t\t Mean Absolute Error:  250026\n",
      "Max leaf nodes: 100  \t\t Mean Absolute Error:  240255\n",
      "Max leaf nodes: 200  \t\t Mean Absolute Error:  231587\n",
      "Max leaf nodes: 600  \t\t Mean Absolute Error:  222986\n",
      "Max leaf nodes: 650  \t\t Mean Absolute Error:  222971\n",
      "Max leaf nodes: 700  \t\t Mean Absolute Error:  224198\n",
      "Max leaf nodes: 1000  \t\t Mean Absolute Error:  224665\n",
      "Max leaf nodes: 3000  \t\t Mean Absolute Error:  231262\n"
     ]
    },
    {
     "data": {
      "image/png": "[encoded data removed]",
      "text/plain": [
       "<Figure size 432x288 with 1 Axes>"
      ]
     },
     "metadata": {
      "needs_background": "light"
     },
     "output_type": "display_data"
    }
   ],
   "source": [
    "mylist=[]\n",
    "for max_leaf_nodes in [2,5,10,50,100,200,600,650,700,1000,3000]:\n",
    "    my_mae = get_mae(df_impute,max_leaf_nodes=max_leaf_nodes)\n",
    "    mylist.append([max_leaf_nodes,my_mae])\n",
    "    print(\"Max leaf nodes: %d  \\t\\t Mean Absolute Error:  %d\" %(max_leaf_nodes, my_mae))\n",
    "plt.plot(*zip(*mylist));"
   ]
  },
  {
   "cell_type": "code",
   "execution_count": 31,
   "metadata": {},
   "outputs": [
    {
     "name": "stdout",
     "output_type": "stream",
     "text": [
      "Mean Absolute Error (MAE) Not Imputed = 235742.03550368827\n",
      "Mean Absolute Error (MAE) Imputed = 222971.72881116258\n"
     ]
    }
   ],
   "source": [
    "df=melbourne_data.select_dtypes(exclude=['object']).copy()\n",
    "print(\"Mean Absolute Error (MAE) Not Imputed =\",get_mae(df,max_leaf_nodes=650))\n",
    "print(\"Mean Absolute Error (MAE) Imputed =\",get_mae(df,max_leaf_nodes=650,impute=True))"
   ]
  },
  {
   "cell_type": "markdown",
   "metadata": {},
   "source": [
    "Using the impute method on non-object features only, there appears to be only a slight improvement when compared to the basic model that dropped rows containing missing data."
   ]
  },
  {
   "cell_type": "markdown",
   "metadata": {},
   "source": [
    "### RandomForestRegressor"
   ]
  },
  {
   "cell_type": "code",
   "execution_count": 32,
   "metadata": {},
   "outputs": [],
   "source": [
    "from sklearn.ensemble import RandomForestRegressor"
   ]
  },
  {
   "cell_type": "markdown",
   "metadata": {},
   "source": [
    "### Random Forest vs. Decision Tree Regressor"
   ]
  },
  {
   "cell_type": "markdown",
   "metadata": {},
   "source": [
    "A Random Forest is essentially a collection *ensemble* model of several Decision Trees. The benefits to using a Random Forest over a single Decision Tree is \n",
    "- A single Decision Tree would lead to overfitting a model if the dataset is large.\n",
    "- Using several Decision Trees to interpret the data would lead to a more consistent and fair approach to data recognition."
   ]
  },
  {
   "cell_type": "code",
   "execution_count": 33,
   "metadata": {},
   "outputs": [],
   "source": [
    "df=melbourne_data.select_dtypes(exclude=['object']).copy()"
   ]
  },
  {
   "cell_type": "code",
   "execution_count": 34,
   "metadata": {},
   "outputs": [
    {
     "name": "stdout",
     "output_type": "stream",
     "text": [
      "Max leaf nodes: 16  \t\t Mean Absolute Error:  271030\n",
      "Max leaf nodes: 81  \t\t Mean Absolute Error:  230739\n",
      "Max leaf nodes: 256  \t\t Mean Absolute Error:  210016\n",
      "Max leaf nodes: 625  \t\t Mean Absolute Error:  200555\n",
      "Max leaf nodes: 1296  \t\t Mean Absolute Error:  196970\n",
      "Max leaf nodes: 2401  \t\t Mean Absolute Error:  196170\n",
      "Max leaf nodes: 4096  \t\t Mean Absolute Error:  196943\n",
      "Max leaf nodes: 6561  \t\t Mean Absolute Error:  196991\n"
     ]
    },
    {
     "data": {
      "image/png": "[encoded data removed]",
      "text/plain": [
       "<Figure size 432x288 with 1 Axes>"
      ]
     },
     "metadata": {
      "needs_background": "light"
     },
     "output_type": "display_data"
    }
   ],
   "source": [
    "mylist=[]\n",
    "for max_leaf_nodes in [i**4 for i in range(2,10)]:\n",
    "    my_mae = get_mae(df,max_leaf_nodes=max_leaf_nodes,tree=RandomForestRegressor,impute=True)\n",
    "    mylist.append([max_leaf_nodes,my_mae])\n",
    "    print(\"Max leaf nodes: %d  \\t\\t Mean Absolute Error:  %d\" %(max_leaf_nodes, my_mae))\n",
    "plt.plot(*zip(*mylist));"
   ]
  },
  {
   "cell_type": "code",
   "execution_count": 35,
   "metadata": {},
   "outputs": [
    {
     "name": "stdout",
     "output_type": "stream",
     "text": [
      "Mean Absolute Error (MAE) = 196170.3637405934\n"
     ]
    }
   ],
   "source": [
    "print(\"Mean Absolute Error (MAE) =\",get_mae(df,max_leaf_nodes=2401,tree=RandomForestRegressor,impute=True))"
   ]
  },
  {
   "cell_type": "markdown",
   "metadata": {},
   "source": [
    "# Dealing with Categorical Data"
   ]
  },
  {
   "cell_type": "code",
   "execution_count": 36,
   "metadata": {},
   "outputs": [
    {
     "data": {
      "text/plain": [
       "(6830, 19)"
      ]
     },
     "execution_count": 36,
     "metadata": {},
     "output_type": "execute_result"
    }
   ],
   "source": [
    "df = melbourne_data.copy().drop(['Address','CouncilArea'],axis=1).dropna()\n",
    "df.shape"
   ]
  },
  {
   "cell_type": "code",
   "execution_count": 37,
   "metadata": {},
   "outputs": [
    {
     "name": "stdout",
     "output_type": "stream",
     "text": [
      "Feature Suburb has 300 unique categories\n",
      "Feature Type has 3 unique categories\n",
      "Feature Method has 5 unique categories\n",
      "Feature SellerG has 214 unique categories\n",
      "Feature Date has 57 unique categories\n",
      "Feature Regionname has 8 unique categories\n"
     ]
    }
   ],
   "source": [
    "for col in df.columns:\n",
    "    if df[col].dtypes=='object':\n",
    "        unique_cat=len(df[col].unique())\n",
    "        print('Feature {col} has {unique_cat} unique categories'.\\\n",
    "             format(col=col, unique_cat=unique_cat))"
   ]
  },
  {
   "cell_type": "markdown",
   "metadata": {},
   "source": [
    "Now let's convert the categorical features to numerical in order to be considered in the model building process. We will drop missing data for now and impute it afterwards."
   ]
  },
  {
   "cell_type": "code",
   "execution_count": 38,
   "metadata": {},
   "outputs": [
    {
     "data": {
      "text/html": [
       "<div>\n",
       "<style scoped>\n",
       "    .dataframe tbody tr th:only-of-type {\n",
       "        vertical-align: middle;\n",
       "    }\n",
       "\n",
       "    .dataframe tbody tr th {\n",
       "        vertical-align: top;\n",
       "    }\n",
       "\n",
       "    .dataframe thead th {\n",
       "        text-align: right;\n",
       "    }\n",
       "</style>\n",
       "<table border=\"1\" class=\"dataframe\">\n",
       "  <thead>\n",
       "    <tr style=\"text-align: right;\">\n",
       "      <th></th>\n",
       "      <th>Suburb</th>\n",
       "      <th>Type</th>\n",
       "      <th>Method</th>\n",
       "      <th>SellerG</th>\n",
       "      <th>Date</th>\n",
       "      <th>Regionname</th>\n",
       "    </tr>\n",
       "  </thead>\n",
       "  <tbody>\n",
       "    <tr>\n",
       "      <th>2</th>\n",
       "      <td>Abbotsford</td>\n",
       "      <td>h</td>\n",
       "      <td>S</td>\n",
       "      <td>Biggin</td>\n",
       "      <td>4/02/2016</td>\n",
       "      <td>Northern Metropolitan</td>\n",
       "    </tr>\n",
       "    <tr>\n",
       "      <th>4</th>\n",
       "      <td>Abbotsford</td>\n",
       "      <td>h</td>\n",
       "      <td>SP</td>\n",
       "      <td>Biggin</td>\n",
       "      <td>4/03/2017</td>\n",
       "      <td>Northern Metropolitan</td>\n",
       "    </tr>\n",
       "    <tr>\n",
       "      <th>6</th>\n",
       "      <td>Abbotsford</td>\n",
       "      <td>h</td>\n",
       "      <td>VB</td>\n",
       "      <td>Nelson</td>\n",
       "      <td>4/06/2016</td>\n",
       "      <td>Northern Metropolitan</td>\n",
       "    </tr>\n",
       "    <tr>\n",
       "      <th>11</th>\n",
       "      <td>Abbotsford</td>\n",
       "      <td>h</td>\n",
       "      <td>S</td>\n",
       "      <td>Nelson</td>\n",
       "      <td>7/05/2016</td>\n",
       "      <td>Northern Metropolitan</td>\n",
       "    </tr>\n",
       "    <tr>\n",
       "      <th>14</th>\n",
       "      <td>Abbotsford</td>\n",
       "      <td>h</td>\n",
       "      <td>S</td>\n",
       "      <td>Nelson</td>\n",
       "      <td>8/10/2016</td>\n",
       "      <td>Northern Metropolitan</td>\n",
       "    </tr>\n",
       "  </tbody>\n",
       "</table>\n",
       "</div>"
      ],
      "text/plain": [
       "        Suburb Type Method SellerG       Date             Regionname\n",
       "2   Abbotsford    h      S  Biggin  4/02/2016  Northern Metropolitan\n",
       "4   Abbotsford    h     SP  Biggin  4/03/2017  Northern Metropolitan\n",
       "6   Abbotsford    h     VB  Nelson  4/06/2016  Northern Metropolitan\n",
       "11  Abbotsford    h      S  Nelson  7/05/2016  Northern Metropolitan\n",
       "14  Abbotsford    h      S  Nelson  8/10/2016  Northern Metropolitan"
      ]
     },
     "execution_count": 38,
     "metadata": {},
     "output_type": "execute_result"
    }
   ],
   "source": [
    "df.select_dtypes(include=['object']).head()"
   ]
  },
  {
   "cell_type": "markdown",
   "metadata": {},
   "source": [
    "The pandas method get_dummies simply converts categorical variables into indicator variables. However, it is not practical to create dummies for categorical features that contain many different categories."
   ]
  },
  {
   "cell_type": "code",
   "execution_count": 39,
   "metadata": {},
   "outputs": [],
   "source": [
    "def replace_cat(df, tolist):\n",
    "    for x in tolist:\n",
    "        dummies=pd.get_dummies(df[x], prefix=x, dummy_na=False)\n",
    "        df = df.drop(x,1)\n",
    "        df = pd.concat([df,dummies],axis=1)\n",
    "    return df"
   ]
  },
  {
   "cell_type": "code",
   "execution_count": 40,
   "metadata": {},
   "outputs": [],
   "source": [
    "tolist=['SellerG','Suburb']"
   ]
  },
  {
   "cell_type": "code",
   "execution_count": 41,
   "metadata": {},
   "outputs": [],
   "source": [
    "# Gather and Convert Categorical Features Using get_dummies\n",
    "categorical_training_predictors = pd.get_dummies(df.select_dtypes(include=['object']).copy())\n",
    "\n",
    "# Gather Numerical Features\n",
    "numerical_training_predictors = df.select_dtypes(exclude=['object']).drop('Price',axis=1).copy()"
   ]
  },
  {
   "cell_type": "code",
   "execution_count": 42,
   "metadata": {},
   "outputs": [],
   "source": [
    "# Combine numerical and categorical features\n",
    "combined_predictors=pd.merge(numerical_training_predictors,categorical_training_predictors,left_index=True, right_index=True)"
   ]
  },
  {
   "cell_type": "code",
   "execution_count": 43,
   "metadata": {},
   "outputs": [],
   "source": [
    "# Create dataframes with the Price \n",
    "numerical_df=pd.merge(numerical_training_predictors,pd.DataFrame(df.Price),left_index=True, right_index=True)\n",
    "categorical_df=pd.merge(categorical_training_predictors,pd.DataFrame(df.Price),left_index=True, right_index=True)\n",
    "combined_df=pd.merge(combined_predictors,pd.DataFrame(df.Price),left_index=True, right_index=True)"
   ]
  },
  {
   "cell_type": "code",
   "execution_count": 44,
   "metadata": {},
   "outputs": [
    {
     "name": "stdout",
     "output_type": "stream",
     "text": [
      "Mean Absolute Error with Only Numerical Features: 184240.8058548009\n",
      "Mean Absolute Error with Dummy Categorical Features: 282755.3791011487\n",
      "Mean Absolute Error with Both: 179027.04988290402\n"
     ]
    }
   ],
   "source": [
    "print('Mean Absolute Error with Only Numerical Features: ' + str(get_mae(numerical_df,tree=RandomForestRegressor)))\n",
    "print('Mean Absolute Error with Dummy Categorical Features: ' + str(get_mae(categorical_df,tree=RandomForestRegressor)))\n",
    "print('Mean Absolute Error with Both: ' + str(get_mae(combined_df,tree=RandomForestRegressor)))"
   ]
  },
  {
   "cell_type": "code",
   "execution_count": 45,
   "metadata": {},
   "outputs": [
    {
     "name": "stdout",
     "output_type": "stream",
     "text": [
      "Max leaf nodes: 16  \t\t Mean Absolute Error:  255695\n",
      "Max leaf nodes: 81  \t\t Mean Absolute Error:  202501\n",
      "Max leaf nodes: 256  \t\t Mean Absolute Error:  184108\n",
      "Max leaf nodes: 625  \t\t Mean Absolute Error:  180036\n",
      "Max leaf nodes: 1296  \t\t Mean Absolute Error:  178213\n",
      "Max leaf nodes: 2401  \t\t Mean Absolute Error:  178272\n",
      "Max leaf nodes: 4096  \t\t Mean Absolute Error:  178217\n",
      "Max leaf nodes: 6561  \t\t Mean Absolute Error:  178217\n"
     ]
    },
    {
     "data": {
      "image/png": "[encoded data removed]",
      "text/plain": [
       "<Figure size 432x288 with 1 Axes>"
      ]
     },
     "metadata": {
      "needs_background": "light"
     },
     "output_type": "display_data"
    }
   ],
   "source": [
    "mylist=[]\n",
    "for max_leaf_nodes in [i**4 for i in range(2,10)]:\n",
    "    my_mae = get_mae(combined_df,max_leaf_nodes=max_leaf_nodes,tree=RandomForestRegressor)\n",
    "    mylist.append([max_leaf_nodes,my_mae])\n",
    "    print(\"Max leaf nodes: %d  \\t\\t Mean Absolute Error:  %d\" %(max_leaf_nodes, my_mae))\n",
    "plt.plot(*zip(*mylist));"
   ]
  },
  {
   "cell_type": "code",
   "execution_count": 46,
   "metadata": {},
   "outputs": [
    {
     "name": "stdout",
     "output_type": "stream",
     "text": [
      "Mean Absolute Error (MAE) = 178213.22504251558\n"
     ]
    }
   ],
   "source": [
    "print(\"Mean Absolute Error (MAE) =\",get_mae(combined_df,max_leaf_nodes=1296,tree=RandomForestRegressor))"
   ]
  },
  {
   "cell_type": "code",
   "execution_count": 47,
   "metadata": {},
   "outputs": [
    {
     "name": "stdout",
     "output_type": "stream",
     "text": [
      "Max Depth: 1  \t\t Mean Absolute Error:  409723\n",
      "Max Depth: 5  \t\t Mean Absolute Error:  236759\n",
      "Max Depth: 9  \t\t Mean Absolute Error:  189654\n",
      "Max Depth: 13  \t\t Mean Absolute Error:  180071\n",
      "Max Depth: 17  \t\t Mean Absolute Error:  180784\n",
      "Max Depth: 21  \t\t Mean Absolute Error:  180057\n",
      "Max Depth: 25  \t\t Mean Absolute Error:  178593\n",
      "Max Depth: 29  \t\t Mean Absolute Error:  179633\n"
     ]
    },
    {
     "data": {
      "image/png": "[encoded data removed]",
      "text/plain": [
       "<Figure size 432x288 with 1 Axes>"
      ]
     },
     "metadata": {
      "needs_background": "light"
     },
     "output_type": "display_data"
    }
   ],
   "source": [
    "mylist=[]\n",
    "for max_depth in range(1,30,4):\n",
    "    my_mae = get_mae(combined_df,max_depth=max_depth,tree=RandomForestRegressor)\n",
    "    mylist.append([max_depth,my_mae])\n",
    "    print(\"Max Depth: %d  \\t\\t Mean Absolute Error:  %d\" %(max_depth, my_mae))\n",
    "plt.plot(*zip(*mylist));"
   ]
  },
  {
   "cell_type": "markdown",
   "metadata": {},
   "source": [
    "### Impute Data (With Newly Converted Categorical Data)"
   ]
  },
  {
   "cell_type": "code",
   "execution_count": 48,
   "metadata": {},
   "outputs": [],
   "source": [
    "df = melbourne_data.copy().drop(['Address','CouncilArea'],axis=1).reset_index().drop('index',axis=1)"
   ]
  },
  {
   "cell_type": "code",
   "execution_count": 49,
   "metadata": {},
   "outputs": [],
   "source": [
    "# Separate Features\n",
    "numerical_training_predictors = df.select_dtypes(exclude=['object']).drop('Price',axis=1).copy()\n",
    "categorical_training_predictors = df.select_dtypes(include=['object']).copy()\n",
    "\n",
    "# Impute Categorical Features\n",
    "categorical_training_predictors = categorical_training_predictors.apply(lambda x:x.fillna(x.value_counts().index[0]))\n",
    "# Convert Categorical Features To Numerical Using get_dummies\n",
    "categorical_training_predictors = pd.get_dummies(categorical_training_predictors,dummy_na=True)\n",
    "\n",
    "# Combine numerical and categorical features\n",
    "combined_predictors=pd.merge(numerical_training_predictors,categorical_training_predictors,left_index=True, right_index=True)\n",
    "\n",
    "# Create dataframes with the Price \n",
    "numerical_df=pd.merge(numerical_training_predictors,pd.DataFrame(df.Price),left_index=True, right_index=True)\n",
    "categorical_df=pd.merge(categorical_training_predictors,pd.DataFrame(df.Price),left_index=True, right_index=True)\n",
    "combined_df=pd.merge(combined_predictors,pd.DataFrame(df.Price),left_index=True, right_index=True)"
   ]
  },
  {
   "cell_type": "code",
   "execution_count": 50,
   "metadata": {},
   "outputs": [
    {
     "name": "stdout",
     "output_type": "stream",
     "text": [
      "Mean Absolute Error with Only Numerical Features (NOT Imputed): 184240.8058548009\n",
      "Mean Absolute Error with Dummy Categorical Features (NOT Imputed): 271600.28514428606\n",
      "Mean Absolute Error with Both (NOT Imputed): 179946.22997658077\n"
     ]
    }
   ],
   "source": [
    "print('Mean Absolute Error with Only Numerical Features (NOT Imputed): ' + str(get_mae(numerical_df,tree=RandomForestRegressor)))\n",
    "print('Mean Absolute Error with Dummy Categorical Features (NOT Imputed): ' + str(get_mae(categorical_df,tree=RandomForestRegressor)))\n",
    "print('Mean Absolute Error with Both (NOT Imputed): ' + str(get_mae(combined_df,tree=RandomForestRegressor)))"
   ]
  },
  {
   "cell_type": "code",
   "execution_count": 51,
   "metadata": {},
   "outputs": [
    {
     "name": "stdout",
     "output_type": "stream",
     "text": [
      "Mean Absolute Error with Only Numerical Features (Imputed): 197030.4108581902\n",
      "Mean Absolute Error with Dummy Categorical Features (Imputed): 271600.28514428606\n",
      "Mean Absolute Error with Both (Imputed): 183445.63366673916\n"
     ]
    }
   ],
   "source": [
    "print('Mean Absolute Error with Only Numerical Features (Imputed): ' + str(get_mae(numerical_df,tree=RandomForestRegressor, impute=True)))\n",
    "print('Mean Absolute Error with Dummy Categorical Features (Imputed): ' + str(get_mae(categorical_df,tree=RandomForestRegressor, impute=True)))\n",
    "print('Mean Absolute Error with Both (Imputed): ' + str(get_mae(combined_df,tree=RandomForestRegressor, impute=True)))"
   ]
  },
  {
   "cell_type": "markdown",
   "metadata": {},
   "source": [
    "NOTE: We actually notice an increase in MAE when imputing missing values. Previously when we imputed ONLY numerical features, we noticed a small decrease in MAE, however, now with the inclusion of categorical features as well, it is likely that imputation on such a large number of missing values can ultimately create more noise and cause an increase in MAE."
   ]
  },
  {
   "cell_type": "markdown",
   "metadata": {},
   "source": [
    "# XGBoost"
   ]
  },
  {
   "cell_type": "markdown",
   "metadata": {},
   "source": [
    "XGBoost (Extreme Gradient Boosting) iteratively builds multiple tree models while optimizing for a given metric. In contrast to regular Gradient Boosting, XGBoost implements a more regularized model formalization to control over-fitting, giving an overall better performance."
   ]
  },
  {
   "cell_type": "code",
   "execution_count": 52,
   "metadata": {},
   "outputs": [],
   "source": [
    "from xgboost import XGBRegressor"
   ]
  },
  {
   "cell_type": "markdown",
   "metadata": {},
   "source": [
    "### Basic Model"
   ]
  },
  {
   "cell_type": "code",
   "execution_count": 53,
   "metadata": {},
   "outputs": [
    {
     "data": {
      "text/plain": [
       "193248.83520564987"
      ]
     },
     "execution_count": 53,
     "metadata": {},
     "output_type": "execute_result"
    }
   ],
   "source": [
    "basic_df=melbourne_data.copy().select_dtypes(exclude=['object']).dropna()\n",
    "get_mae(basic_df,tree=XGBRegressor)"
   ]
  },
  {
   "cell_type": "markdown",
   "metadata": {},
   "source": [
    "### XGBoost Model Features"
   ]
  },
  {
   "cell_type": "markdown",
   "metadata": {},
   "source": [
    "<b>n_estimators</b> specifies how many times to go through the modeling cycle described above. Range typically lies within 100-1000, however this depends a lot on the learning rate."
   ]
  },
  {
   "cell_type": "code",
   "execution_count": 54,
   "metadata": {},
   "outputs": [
    {
     "name": "stdout",
     "output_type": "stream",
     "text": [
      "n_estimators: 0  \t\t Mean Absolute Error:  1108480\n",
      "n_estimators: 1  \t\t Mean Absolute Error:  1001334\n",
      "n_estimators: 32  \t\t Mean Absolute Error:  220109\n",
      "n_estimators: 243  \t\t Mean Absolute Error:  183898\n",
      "n_estimators: 1024  \t\t Mean Absolute Error:  175658\n",
      "n_estimators: 3125  \t\t Mean Absolute Error:  177601\n"
     ]
    },
    {
     "data": {
      "image/png": "[encoded data removed]",
      "text/plain": [
       "<Figure size 432x288 with 1 Axes>"
      ]
     },
     "metadata": {
      "needs_background": "light"
     },
     "output_type": "display_data"
    }
   ],
   "source": [
    "mylist=[]\n",
    "for n_estimators in [i**5 for i in range(0,6)]:\n",
    "    mae=get_mae(basic_df,tree=XGBRegressor,n_estimators=n_estimators)\n",
    "    mylist.append([n_estimators,mae])\n",
    "    print(\"n_estimators: %d  \\t\\t Mean Absolute Error:  %d\" %(n_estimators, mae))\n",
    "plt.plot(*zip(*mylist));"
   ]
  },
  {
   "cell_type": "code",
   "execution_count": 55,
   "metadata": {},
   "outputs": [
    {
     "name": "stdout",
     "output_type": "stream",
     "text": [
      "Mean Absolute Error (MAE): 175658.2419496487\n"
     ]
    }
   ],
   "source": [
    "print('Mean Absolute Error (MAE): ' + str(get_mae(basic_df,tree=XGBRegressor,n_estimators=1024)))"
   ]
  },
  {
   "cell_type": "markdown",
   "metadata": {},
   "source": [
    "### Trying XGBoost on a dataframe with both numerical and categorical data."
   ]
  },
  {
   "cell_type": "code",
   "execution_count": 56,
   "metadata": {},
   "outputs": [],
   "source": [
    "def convert_cat(df,columns=df.select_dtypes(include=['object']).columns):\n",
    "    df=df.copy()\n",
    "    mydict=[]    \n",
    "    cat_columns=df.select_dtypes(include=['object']).columns\n",
    "    for i,col in enumerate(cat_columns):\n",
    "        df[col+'-cat']=df[col].astype('category')\n",
    "        df[col] = df[col+'-cat'].cat.codes\n",
    "        mydict.append(dict(enumerate(df[col+'-cat'].cat.categories)))\n",
    "        df=df.drop([col+'-cat'],axis=1)\n",
    "    df[cat_columns]=df[cat_columns].applymap(lambda x: float('NaN') if x==-1 else x)\n",
    "    return df"
   ]
  },
  {
   "cell_type": "code",
   "execution_count": 57,
   "metadata": {},
   "outputs": [
    {
     "data": {
      "text/plain": [
       "(6830, 19)"
      ]
     },
     "execution_count": 57,
     "metadata": {},
     "output_type": "execute_result"
    }
   ],
   "source": [
    "df = melbourne_data.copy().drop(['Address','CouncilArea'],axis=1)\n",
    "df.Regionname = df.Regionname.fillna(df.Regionname.value_counts().index[0])\n",
    "df=convert_cat(df.dropna())\n",
    "df.shape"
   ]
  },
  {
   "cell_type": "code",
   "execution_count": 58,
   "metadata": {},
   "outputs": [
    {
     "name": "stdout",
     "output_type": "stream",
     "text": [
      "Mean Absolute Error (MAE): 188225.80184243267\n"
     ]
    }
   ],
   "source": [
    "print('Mean Absolute Error (MAE): ' + str(get_mae(df,tree=XGBRegressor)))"
   ]
  },
  {
   "cell_type": "code",
   "execution_count": 59,
   "metadata": {},
   "outputs": [
    {
     "name": "stdout",
     "output_type": "stream",
     "text": [
      "n_estimators: 1  \t\t Mean Absolute Error:  1001334\n",
      "n_estimators: 32  \t\t Mean Absolute Error:  214110\n",
      "n_estimators: 243  \t\t Mean Absolute Error:  176690\n",
      "n_estimators: 1024  \t\t Mean Absolute Error:  166557\n",
      "n_estimators: 3125  \t\t Mean Absolute Error:  163481\n"
     ]
    },
    {
     "data": {
      "image/png": "[encoded data removed]",
      "text/plain": [
       "<Figure size 432x288 with 1 Axes>"
      ]
     },
     "metadata": {
      "needs_background": "light"
     },
     "output_type": "display_data"
    }
   ],
   "source": [
    "mylist=[]\n",
    "for n_estimators in [i**5 for i in range(1,6)]:\n",
    "    mae=get_mae(df,tree=XGBRegressor,n_estimators=n_estimators)\n",
    "    mylist.append([n_estimators,mae])\n",
    "    print(\"n_estimators: %d  \\t\\t Mean Absolute Error:  %d\" %(n_estimators, mae))\n",
    "plt.plot(*zip(*mylist));"
   ]
  },
  {
   "cell_type": "code",
   "execution_count": 60,
   "metadata": {},
   "outputs": [
    {
     "name": "stdout",
     "output_type": "stream",
     "text": [
      "Mean Absolute Error (MAE): 163481.21879574063\n"
     ]
    }
   ],
   "source": [
    "print('Mean Absolute Error (MAE): ' + str(get_mae(df,tree=XGBRegressor,n_estimators=3125)))"
   ]
  },
  {
   "cell_type": "markdown",
   "metadata": {},
   "source": [
    "<b>early_stopping_rounds</b> allows the model to stop iterating when the validation score stops improving. Ideally, you would aim to set a high n_estimators value and balance this with an early_stopping_rounds to find the optimal time to stop iterating.<br>\n",
    "However, keep in mind that chance can play a role in prematurely finding a precise answer, therefore this feature provides a minimum number of times the model precision can waiver. Typical values for early_stopping_rounds are approximately 5."
   ]
  },
  {
   "cell_type": "markdown",
   "metadata": {},
   "source": [
    "NOTE: When using <b>early_stopping_rounds</b>, you need to set aside some of your data for checking the number of rounds to use. If you later want to fit a model with all of your data, set <b>n_estimators</b> to whatever value you found to be optimal when run with early stopping."
   ]
  },
  {
   "cell_type": "code",
   "execution_count": 61,
   "metadata": {},
   "outputs": [
    {
     "name": "stdout",
     "output_type": "stream",
     "text": [
      "early_stopping_rounds: 0.00  \t\t Mean Absolute Error:  189500\n",
      "early_stopping_rounds: 0.40  \t\t Mean Absolute Error:  189500\n",
      "early_stopping_rounds: 0.80  \t\t Mean Absolute Error:  189500\n",
      "early_stopping_rounds: 1.20  \t\t Mean Absolute Error:  188225\n",
      "early_stopping_rounds: 1.60  \t\t Mean Absolute Error:  188225\n",
      "early_stopping_rounds: 2.00  \t\t Mean Absolute Error:  188225\n"
     ]
    },
    {
     "data": {
      "image/png": "[encoded data removed]",
      "text/plain": [
       "<Figure size 432x288 with 1 Axes>"
      ]
     },
     "metadata": {
      "needs_background": "light"
     },
     "output_type": "display_data"
    }
   ],
   "source": [
    "mylist=[]\n",
    "for early_stopping_rounds in [2.0*i/10 for i in range(0,12,2)]:\n",
    "    mae=get_mae(df,tree=XGBRegressor,early_stopping_rounds=early_stopping_rounds)\n",
    "    mylist.append([early_stopping_rounds,mae])\n",
    "    print(\"early_stopping_rounds: %.2f  \\t\\t Mean Absolute Error:  %d\" %(early_stopping_rounds, mae))\n",
    "plt.plot(*zip(*mylist));"
   ]
  },
  {
   "cell_type": "code",
   "execution_count": 62,
   "metadata": {},
   "outputs": [
    {
     "name": "stdout",
     "output_type": "stream",
     "text": [
      "Mean Absolute Error (MAE): 163481.21879574063\n"
     ]
    }
   ],
   "source": [
    "print('Mean Absolute Error (MAE): ' + str(get_mae(df,tree=XGBRegressor,n_estimators=3125)))"
   ]
  },
  {
   "cell_type": "markdown",
   "metadata": {},
   "source": [
    "<b>learning_rate</b> is another feature used in XGBoost. It is impletemented to slow down the learning in the XGBoost model by applying a weighting factor to new trees. \n",
    "<br>XGBoost sequentially creates and adds trees to the model to correct the residual errors (from existing trees), however this can quickly cause the model to overfit the training sample set. Therefore, the <b>learning_rate</b> feature aims to counteract this negative effect.\n",
    "<br>Typically, small learning_rate with large n_estimators will yield more accurate XGBoost models, although more iterations will cause the model to take longer to train."
   ]
  },
  {
   "cell_type": "code",
   "execution_count": 63,
   "metadata": {},
   "outputs": [
    {
     "name": "stdout",
     "output_type": "stream",
     "text": [
      "learning_rate: 0.010000  \t\t Mean Absolute Error:  171244\n",
      "learning_rate: 0.040000  \t\t Mean Absolute Error:  164257\n",
      "learning_rate: 0.090000  \t\t Mean Absolute Error:  164091\n",
      "learning_rate: 0.160000  \t\t Mean Absolute Error:  168531\n",
      "learning_rate: 0.250000  \t\t Mean Absolute Error:  173590\n"
     ]
    },
    {
     "data": {
      "image/png": "[encoded data removed]",
      "text/plain": [
       "<Figure size 432x288 with 1 Axes>"
      ]
     },
     "metadata": {
      "needs_background": "light"
     },
     "output_type": "display_data"
    }
   ],
   "source": [
    "mylist=[]\n",
    "for learning_rate in [i**2/100 for i in range(1,6)]:\n",
    "    mae=get_mae(df,tree=XGBRegressor,n_estimators=3125,learning_rate=learning_rate)\n",
    "    mylist.append([learning_rate,mae])\n",
    "    print(\"learning_rate: %f  \\t\\t Mean Absolute Error:  %d\" %(learning_rate, mae))\n",
    "\n",
    "plt.plot(*zip(*mylist));"
   ]
  },
  {
   "cell_type": "markdown",
   "metadata": {},
   "source": [
    "NOTE: The optimal learning_rate value in this instance is 0.10, which is also the default value for the XGBRegressor model."
   ]
  },
  {
   "cell_type": "code",
   "execution_count": 64,
   "metadata": {},
   "outputs": [
    {
     "name": "stdout",
     "output_type": "stream",
     "text": [
      "Mean Absolute Error (MAE): 163481.21879574063\n"
     ]
    }
   ],
   "source": [
    "print('Mean Absolute Error (MAE): ' + str(get_mae(\n",
    "    df,tree=XGBRegressor,n_estimators=3125,\n",
    "    learning_rate=0.10)))"
   ]
  },
  {
   "cell_type": "markdown",
   "metadata": {},
   "source": [
    "<b>n_jobs</b> is a feature that is used primarily when dealing with larger datasets where runtime is a consideration. Parallelism can be impletemented to build models faster. Typically <b>n_jobs</b> is set to the number of cores on your machine. <b>However</b>, the resulting model won't be particularly more accurate - this is merely a runtime concern."
   ]
  },
  {
   "cell_type": "markdown",
   "metadata": {},
   "source": [
    "# Partial Dependence Plots"
   ]
  },
  {
   "cell_type": "markdown",
   "metadata": {},
   "source": [
    "PDP's are an efficient way to visualize the dependence of a target variable on a set of 'target' features. It can often be overwhelming to visualize ALL the features within a model. Thus, it is preferred to select a few 'important' target features. See below the list of features ranked by importance.<br>\n",
    "One thing to note is that several methods surrounding plot_partial_dependence are currently limited to Gradient Boosting models only."
   ]
  },
  {
   "cell_type": "code",
   "execution_count": 65,
   "metadata": {},
   "outputs": [
    {
     "data": {
      "text/plain": [
       "(6830, 19)"
      ]
     },
     "execution_count": 65,
     "metadata": {},
     "output_type": "execute_result"
    }
   ],
   "source": [
    "df = melbourne_data.copy().drop(['Address','CouncilArea'],axis=1).dropna()\n",
    "cat_columns=df.select_dtypes(include=['object']).columns\n",
    "df.Regionname = df.Regionname.fillna(df.Regionname.value_counts().index[0])\n",
    "df=convert_cat(df.dropna())\n",
    "df.shape"
   ]
  },
  {
   "cell_type": "code",
   "execution_count": 66,
   "metadata": {},
   "outputs": [
    {
     "data": {
      "text/plain": [
       "GradientBoostingRegressor(alpha=0.9, criterion='friedman_mse', init=None,\n",
       "             learning_rate=0.1, loss='ls', max_depth=3, max_features=None,\n",
       "             max_leaf_nodes=None, min_impurity_decrease=0.0,\n",
       "             min_impurity_split=None, min_samples_leaf=1,\n",
       "             min_samples_split=2, min_weight_fraction_leaf=0.0,\n",
       "             n_estimators=1024, presort='auto', random_state=0,\n",
       "             subsample=1.0, verbose=0, warm_start=False)"
      ]
     },
     "execution_count": 66,
     "metadata": {},
     "output_type": "execute_result"
    }
   ],
   "source": [
    "X=df.drop('Price',axis=1)\n",
    "y=df.Price\n",
    "train_X, val_X, train_y, val_y = train_test_split(X,y,random_state=0)\n",
    "# Build and Fit Model\n",
    "my_model = GradientBoostingRegressor(random_state=0,n_estimators=1024)\n",
    "my_model.fit(X, y)"
   ]
  },
  {
   "cell_type": "code",
   "execution_count": 67,
   "metadata": {},
   "outputs": [
    {
     "data": {
      "text/html": [
       "<div>\n",
       "<style scoped>\n",
       "    .dataframe tbody tr th:only-of-type {\n",
       "        vertical-align: middle;\n",
       "    }\n",
       "\n",
       "    .dataframe tbody tr th {\n",
       "        vertical-align: top;\n",
       "    }\n",
       "\n",
       "    .dataframe thead th {\n",
       "        text-align: right;\n",
       "    }\n",
       "</style>\n",
       "<table border=\"1\" class=\"dataframe\">\n",
       "  <thead>\n",
       "    <tr style=\"text-align: right;\">\n",
       "      <th></th>\n",
       "      <th>Feature</th>\n",
       "      <th>Importance</th>\n",
       "    </tr>\n",
       "  </thead>\n",
       "  <tbody>\n",
       "    <tr>\n",
       "      <th>12</th>\n",
       "      <td>BuildingArea</td>\n",
       "      <td>0.153628</td>\n",
       "    </tr>\n",
       "    <tr>\n",
       "      <th>15</th>\n",
       "      <td>Longtitude</td>\n",
       "      <td>0.123105</td>\n",
       "    </tr>\n",
       "    <tr>\n",
       "      <th>14</th>\n",
       "      <td>Lattitude</td>\n",
       "      <td>0.112583</td>\n",
       "    </tr>\n",
       "    <tr>\n",
       "      <th>11</th>\n",
       "      <td>Landsize</td>\n",
       "      <td>0.096678</td>\n",
       "    </tr>\n",
       "    <tr>\n",
       "      <th>6</th>\n",
       "      <td>Distance</td>\n",
       "      <td>0.084799</td>\n",
       "    </tr>\n",
       "    <tr>\n",
       "      <th>13</th>\n",
       "      <td>YearBuilt</td>\n",
       "      <td>0.083173</td>\n",
       "    </tr>\n",
       "    <tr>\n",
       "      <th>5</th>\n",
       "      <td>Date</td>\n",
       "      <td>0.050477</td>\n",
       "    </tr>\n",
       "    <tr>\n",
       "      <th>0</th>\n",
       "      <td>Suburb</td>\n",
       "      <td>0.044932</td>\n",
       "    </tr>\n",
       "    <tr>\n",
       "      <th>17</th>\n",
       "      <td>Propertycount</td>\n",
       "      <td>0.040710</td>\n",
       "    </tr>\n",
       "    <tr>\n",
       "      <th>7</th>\n",
       "      <td>Postcode</td>\n",
       "      <td>0.039177</td>\n",
       "    </tr>\n",
       "    <tr>\n",
       "      <th>9</th>\n",
       "      <td>Bathroom</td>\n",
       "      <td>0.030056</td>\n",
       "    </tr>\n",
       "    <tr>\n",
       "      <th>4</th>\n",
       "      <td>SellerG</td>\n",
       "      <td>0.029622</td>\n",
       "    </tr>\n",
       "    <tr>\n",
       "      <th>10</th>\n",
       "      <td>Car</td>\n",
       "      <td>0.027579</td>\n",
       "    </tr>\n",
       "    <tr>\n",
       "      <th>1</th>\n",
       "      <td>Rooms</td>\n",
       "      <td>0.024798</td>\n",
       "    </tr>\n",
       "    <tr>\n",
       "      <th>2</th>\n",
       "      <td>Type</td>\n",
       "      <td>0.019737</td>\n",
       "    </tr>\n",
       "    <tr>\n",
       "      <th>8</th>\n",
       "      <td>Bedroom2</td>\n",
       "      <td>0.018181</td>\n",
       "    </tr>\n",
       "    <tr>\n",
       "      <th>3</th>\n",
       "      <td>Method</td>\n",
       "      <td>0.017343</td>\n",
       "    </tr>\n",
       "    <tr>\n",
       "      <th>16</th>\n",
       "      <td>Regionname</td>\n",
       "      <td>0.003423</td>\n",
       "    </tr>\n",
       "  </tbody>\n",
       "</table>\n",
       "</div>"
      ],
      "text/plain": [
       "          Feature  Importance\n",
       "12   BuildingArea    0.153628\n",
       "15     Longtitude    0.123105\n",
       "14      Lattitude    0.112583\n",
       "11       Landsize    0.096678\n",
       "6        Distance    0.084799\n",
       "13      YearBuilt    0.083173\n",
       "5            Date    0.050477\n",
       "0          Suburb    0.044932\n",
       "17  Propertycount    0.040710\n",
       "7        Postcode    0.039177\n",
       "9        Bathroom    0.030056\n",
       "4         SellerG    0.029622\n",
       "10            Car    0.027579\n",
       "1           Rooms    0.024798\n",
       "2            Type    0.019737\n",
       "8        Bedroom2    0.018181\n",
       "3          Method    0.017343\n",
       "16     Regionname    0.003423"
      ]
     },
     "execution_count": 67,
     "metadata": {},
     "output_type": "execute_result"
    }
   ],
   "source": [
    "features=pd.DataFrame([i for i in zip(X.columns,my_model.feature_importances_)],\\\n",
    "             columns=['Feature','Importance']).sort_values('Importance',ascending=False)\n",
    "features"
   ]
  },
  {
   "cell_type": "code",
   "execution_count": 68,
   "metadata": {},
   "outputs": [
    {
     "data": {
      "image/png": "[encoded data removed]",
      "text/plain": [
       "<Figure size 432x288 with 2 Axes>"
      ]
     },
     "metadata": {
      "needs_background": "light"
     },
     "output_type": "display_data"
    },
    {
     "data": {
      "image/png": "[encoded data removed]",
      "text/plain": [
       "<Figure size 432x288 with 2 Axes>"
      ]
     },
     "metadata": {
      "needs_background": "light"
     },
     "output_type": "display_data"
    },
    {
     "data": {
      "image/png": "[encoded data removed]",
      "text/plain": [
       "<Figure size 432x288 with 2 Axes>"
      ]
     },
     "metadata": {
      "needs_background": "light"
     },
     "output_type": "display_data"
    },
    {
     "data": {
      "image/png": "[encoded data removed]",
      "text/plain": [
       "<Figure size 432x288 with 2 Axes>"
      ]
     },
     "metadata": {
      "needs_background": "light"
     },
     "output_type": "display_data"
    },
    {
     "data": {
      "image/png": "[encoded data removed]",
      "text/plain": [
       "<Figure size 432x288 with 2 Axes>"
      ]
     },
     "metadata": {
      "needs_background": "light"
     },
     "output_type": "display_data"
    },
    {
     "data": {
      "image/png": "[encoded data removed]",
      "text/plain": [
       "<Figure size 432x288 with 2 Axes>"
      ]
     },
     "metadata": {
      "needs_background": "light"
     },
     "output_type": "display_data"
    },
    {
     "data": {
      "image/png": "[encoded data removed]",
      "text/plain": [
       "<Figure size 432x288 with 2 Axes>"
      ]
     },
     "metadata": {
      "needs_background": "light"
     },
     "output_type": "display_data"
    },
    {
     "data": {
      "image/png": "[encoded data removed]",
      "text/plain": [
       "<Figure size 432x288 with 2 Axes>"
      ]
     },
     "metadata": {
      "needs_background": "light"
     },
     "output_type": "display_data"
    },
    {
     "data": {
      "image/png": "[encoded data removed]",
      "text/plain": [
       "<Figure size 432x288 with 2 Axes>"
      ]
     },
     "metadata": {
      "needs_background": "light"
     },
     "output_type": "display_data"
    }
   ],
   "source": [
    "from sklearn.ensemble.partial_dependence import partial_dependence, plot_partial_dependence\n",
    "\n",
    "for feat in [i*2 for i in range(features.shape[0]//2)]:\n",
    "    my_plots = plot_partial_dependence(my_model,       \n",
    "                                   features=features.index[feat:feat+2], # column numbers of plots we want to show\n",
    "                                   X=X,            # raw predictors data.\n",
    "                                   feature_names=features.Feature, # labels on graphs\n",
    "                                   grid_resolution=10) # number of values to plot on x axis\n"
   ]
  },
  {
   "cell_type": "markdown",
   "metadata": {},
   "source": [
    "### PDP On Object Features Only"
   ]
  },
  {
   "cell_type": "code",
   "execution_count": 69,
   "metadata": {},
   "outputs": [
    {
     "data": {
      "text/plain": [
       "GradientBoostingRegressor(alpha=0.9, criterion='friedman_mse', init=None,\n",
       "             learning_rate=0.1, loss='ls', max_depth=3, max_features=None,\n",
       "             max_leaf_nodes=None, min_impurity_decrease=0.0,\n",
       "             min_impurity_split=None, min_samples_leaf=1,\n",
       "             min_samples_split=2, min_weight_fraction_leaf=0.0,\n",
       "             n_estimators=1024, presort='auto', random_state=0,\n",
       "             subsample=1.0, verbose=0, warm_start=False)"
      ]
     },
     "execution_count": 69,
     "metadata": {},
     "output_type": "execute_result"
    }
   ],
   "source": [
    "df = melbourne_data.copy().select_dtypes(include=['object']).dropna().drop(['Address','CouncilArea'],axis=1)\n",
    "df = pd.merge(df,pd.DataFrame(melbourne_data.copy().Price),left_index=True, right_index=True)\n",
    "df.Regionname = df.Regionname.fillna(df.Regionname.value_counts().index[0])\n",
    "df=convert_cat(df.dropna())\n",
    "\n",
    "y = df.Price\n",
    "X = df.drop(['Price'], axis=1)\n",
    "\n",
    "my_model = GradientBoostingRegressor(n_estimators=1024,random_state=0)\n",
    "my_model.fit(X, y)"
   ]
  },
  {
   "cell_type": "code",
   "execution_count": 70,
   "metadata": {},
   "outputs": [
    {
     "data": {
      "text/html": [
       "<div>\n",
       "<style scoped>\n",
       "    .dataframe tbody tr th:only-of-type {\n",
       "        vertical-align: middle;\n",
       "    }\n",
       "\n",
       "    .dataframe tbody tr th {\n",
       "        vertical-align: top;\n",
       "    }\n",
       "\n",
       "    .dataframe thead th {\n",
       "        text-align: right;\n",
       "    }\n",
       "</style>\n",
       "<table border=\"1\" class=\"dataframe\">\n",
       "  <thead>\n",
       "    <tr style=\"text-align: right;\">\n",
       "      <th></th>\n",
       "      <th>Feature</th>\n",
       "      <th>Importance</th>\n",
       "    </tr>\n",
       "  </thead>\n",
       "  <tbody>\n",
       "    <tr>\n",
       "      <th>0</th>\n",
       "      <td>Suburb</td>\n",
       "      <td>0.440744</td>\n",
       "    </tr>\n",
       "    <tr>\n",
       "      <th>3</th>\n",
       "      <td>SellerG</td>\n",
       "      <td>0.191974</td>\n",
       "    </tr>\n",
       "    <tr>\n",
       "      <th>4</th>\n",
       "      <td>Date</td>\n",
       "      <td>0.158327</td>\n",
       "    </tr>\n",
       "    <tr>\n",
       "      <th>1</th>\n",
       "      <td>Type</td>\n",
       "      <td>0.103065</td>\n",
       "    </tr>\n",
       "    <tr>\n",
       "      <th>2</th>\n",
       "      <td>Method</td>\n",
       "      <td>0.059764</td>\n",
       "    </tr>\n",
       "    <tr>\n",
       "      <th>5</th>\n",
       "      <td>Regionname</td>\n",
       "      <td>0.046125</td>\n",
       "    </tr>\n",
       "  </tbody>\n",
       "</table>\n",
       "</div>"
      ],
      "text/plain": [
       "      Feature  Importance\n",
       "0      Suburb    0.440744\n",
       "3     SellerG    0.191974\n",
       "4        Date    0.158327\n",
       "1        Type    0.103065\n",
       "2      Method    0.059764\n",
       "5  Regionname    0.046125"
      ]
     },
     "execution_count": 70,
     "metadata": {},
     "output_type": "execute_result"
    }
   ],
   "source": [
    "features=pd.DataFrame([i for i in zip(X.columns,my_model.feature_importances_)],\\\n",
    "             columns=['Feature','Importance']).sort_values('Importance',ascending=False)\n",
    "features"
   ]
  },
  {
   "cell_type": "code",
   "execution_count": 71,
   "metadata": {},
   "outputs": [
    {
     "data": {
      "image/png": "[encoded data removed]",
      "text/plain": [
       "<Figure size 432x288 with 2 Axes>"
      ]
     },
     "metadata": {
      "needs_background": "light"
     },
     "output_type": "display_data"
    },
    {
     "data": {
      "image/png": "[encoded data removed]",
      "text/plain": [
       "<Figure size 432x288 with 2 Axes>"
      ]
     },
     "metadata": {
      "needs_background": "light"
     },
     "output_type": "display_data"
    },
    {
     "data": {
      "image/png": "[encoded data removed]",
      "text/plain": [
       "<Figure size 432x288 with 2 Axes>"
      ]
     },
     "metadata": {
      "needs_background": "light"
     },
     "output_type": "display_data"
    }
   ],
   "source": [
    "from sklearn.ensemble.partial_dependence import partial_dependence, plot_partial_dependence\n",
    "\n",
    "for feat in [i*2 for i in range(features.shape[0]//2)]:\n",
    "    my_plots = plot_partial_dependence(my_model,       \n",
    "                                   features=features.index[feat:feat+2], # column numbers of plots we want to show\n",
    "                                   X=X,            # raw predictors data.\n",
    "                                   feature_names=features.Feature, # labels on graphs\n",
    "                                   grid_resolution=10) # number of values to plot on x axis\n"
   ]
  },
  {
   "cell_type": "markdown",
   "metadata": {},
   "source": [
    "# Pipelines"
   ]
  },
  {
   "cell_type": "code",
   "execution_count": 72,
   "metadata": {},
   "outputs": [],
   "source": [
    "from sklearn.pipeline import make_pipeline"
   ]
  },
  {
   "cell_type": "markdown",
   "metadata": {},
   "source": [
    "Pipelines bundles preprocessing and modeling steps, which allows for:\n",
    "- a simple way to keep your data processing and modeling code organized;\n",
    "- using an entire whole bundle as one single step.."
   ]
  },
  {
   "cell_type": "markdown",
   "metadata": {},
   "source": [
    "### Types of Pipeline"
   ]
  },
  {
   "cell_type": "markdown",
   "metadata": {},
   "source": [
    "1. <b>Transformers</b> are implemented when pre-processing data before modeling e.g. the Imputer class.\n",
    "2. <b>Models</b> are implemented (after the tranformation) to make predictions."
   ]
  },
  {
   "cell_type": "code",
   "execution_count": 73,
   "metadata": {},
   "outputs": [],
   "source": [
    "my_pipeline = make_pipeline(Imputer(), RandomForestRegressor(random_state=0))"
   ]
  },
  {
   "cell_type": "markdown",
   "metadata": {},
   "source": [
    "In the above pipeline, we have bundle an imputer function and RandomForestRegressor model within one pipeline.<br><br>\n",
    "### Some Pipeline Methods"
   ]
  },
  {
   "cell_type": "markdown",
   "metadata": {},
   "source": [
    "<b>decision_function(X)</b>: Apply transforms, and decision_function of the final estimator<br>\n",
    "<b>fit(X[, y])</b>: Fit the model<br>\n",
    "<b>fit_predict(X[, y])</b>: Applies fit_predict of last step in pipeline after transforms.<br>\n",
    "<b>fit_transform(X[, y])</b>: Fit the model and transform with the final estimator<br>\n",
    "<b>predict(X)</b>: Apply transforms to the data, and predict with the final estimator<br>\n",
    "<b>score(X[, y, sample_weight])</b>: Apply transforms, and score with the final estimator<br>"
   ]
  },
  {
   "cell_type": "code",
   "execution_count": 74,
   "metadata": {},
   "outputs": [
    {
     "name": "stdout",
     "output_type": "stream",
     "text": [
      "(18396, 19)\n"
     ]
    }
   ],
   "source": [
    "df = melbourne_data.copy().drop(['Address','CouncilArea'],axis=1)\n",
    "df.Regionname = df.Regionname.fillna(df.Regionname.value_counts().index[0])\n",
    "df=convert_cat(df)\n",
    "print(df.shape)\n",
    "y = df.Price\n",
    "X = df.drop(['Price'], axis=1)\n",
    "train_X, test_X, train_y, test_y = train_test_split(X, y,random_state=0)"
   ]
  },
  {
   "cell_type": "code",
   "execution_count": 75,
   "metadata": {},
   "outputs": [
    {
     "name": "stdout",
     "output_type": "stream",
     "text": [
      "Mean Absolute Error : 191027.9999855041\n"
     ]
    }
   ],
   "source": [
    "my_pipeline.fit(train_X, train_y)\n",
    "predictions = my_pipeline.predict(test_X)\n",
    "print(\"Mean Absolute Error : \" + str(mean_absolute_error(predictions, test_y)))"
   ]
  },
  {
   "cell_type": "markdown",
   "metadata": {},
   "source": [
    "In the above code, we can see how a pipeline proves to be a more concise and efficient way to produce code. In contrast, see an alternative method below."
   ]
  },
  {
   "cell_type": "code",
   "execution_count": 76,
   "metadata": {},
   "outputs": [
    {
     "name": "stdout",
     "output_type": "stream",
     "text": [
      "Mean Absolute Error : 191027.9999855041\n"
     ]
    }
   ],
   "source": [
    "my_imputer = Imputer()\n",
    "my_model = RandomForestRegressor(random_state=0)\n",
    "\n",
    "imputed_train_X = my_imputer.fit_transform(train_X)\n",
    "imputed_test_X = my_imputer.transform(test_X)\n",
    "my_model.fit(imputed_train_X, train_y)\n",
    "predictions = my_model.predict(imputed_test_X)\n",
    "print(\"Mean Absolute Error : \" + str(mean_absolute_error(predictions, test_y)))"
   ]
  },
  {
   "cell_type": "markdown",
   "metadata": {},
   "source": [
    "### Using Pipeline On XGBR"
   ]
  },
  {
   "cell_type": "code",
   "execution_count": 77,
   "metadata": {},
   "outputs": [
    {
     "name": "stdout",
     "output_type": "stream",
     "text": [
      "Mean Absolute Error : 173316.0672233434\n"
     ]
    }
   ],
   "source": [
    "my_pipeline = make_pipeline(Imputer(), XGBRegressor(n_estimators=3125,random_state=0))\n",
    "my_pipeline.fit(train_X, train_y)\n",
    "predictions = my_pipeline.predict(test_X)\n",
    "print(\"Mean Absolute Error : \" + str(mean_absolute_error(predictions, test_y)))"
   ]
  },
  {
   "cell_type": "code",
   "execution_count": 78,
   "metadata": {},
   "outputs": [
    {
     "data": {
      "text/plain": [
       "172659.7233300123"
      ]
     },
     "execution_count": 78,
     "metadata": {},
     "output_type": "execute_result"
    }
   ],
   "source": [
    "get_mae(df,tree=XGBRegressor,impute=True,n_estimators=3125)"
   ]
  },
  {
   "cell_type": "code",
   "execution_count": 79,
   "metadata": {},
   "outputs": [
    {
     "data": {
      "text/plain": [
       "163496.547744072"
      ]
     },
     "execution_count": 79,
     "metadata": {},
     "output_type": "execute_result"
    }
   ],
   "source": [
    "get_mae(df,tree=XGBRegressor,impute=False,n_estimators=3125)"
   ]
  },
  {
   "cell_type": "markdown",
   "metadata": {},
   "source": [
    "# Cross Validation"
   ]
  },
  {
   "cell_type": "code",
   "execution_count": 80,
   "metadata": {},
   "outputs": [],
   "source": [
    "from sklearn.model_selection import cross_val_score"
   ]
  },
  {
   "cell_type": "code",
   "execution_count": 81,
   "metadata": {},
   "outputs": [
    {
     "name": "stdout",
     "output_type": "stream",
     "text": [
      "[-229787.72815217 -211600.49316843 -199452.22672828 -174166.22902057\n",
      " -176638.74466794]\n"
     ]
    }
   ],
   "source": [
    "my_pipeline = make_pipeline(Imputer(), RandomForestRegressor(random_state=0))\n",
    "scores = cross_val_score(my_pipeline, X, y, scoring='neg_mean_absolute_error', cv=5)\n",
    "print(scores)"
   ]
  },
  {
   "cell_type": "code",
   "execution_count": 82,
   "metadata": {},
   "outputs": [
    {
     "name": "stdout",
     "output_type": "stream",
     "text": [
      "Mean Absolute Error 198329.084347\n"
     ]
    }
   ],
   "source": [
    "print('Mean Absolute Error %2f' %(-1 * scores.mean()))"
   ]
  },
  {
   "cell_type": "code",
   "execution_count": 83,
   "metadata": {},
   "outputs": [
    {
     "name": "stdout",
     "output_type": "stream",
     "text": [
      "[-211818.09203677 -178993.11123628 -182469.04687254 -168537.28010541\n",
      " -175826.01840259]\n"
     ]
    }
   ],
   "source": [
    "my_pipeline = make_pipeline(Imputer(), XGBRegressor(n_estimators=3125,random_state=0))\n",
    "scores = cross_val_score(my_pipeline, X, y, scoring='neg_mean_absolute_error', cv=5)\n",
    "print(scores)"
   ]
  },
  {
   "cell_type": "code",
   "execution_count": 84,
   "metadata": {},
   "outputs": [
    {
     "name": "stdout",
     "output_type": "stream",
     "text": [
      "Mean Absolute Error 183528.709731\n"
     ]
    }
   ],
   "source": [
    "print('Mean Absolute Error %2f' %(-1 * scores.mean()))"
   ]
  },
  {
   "cell_type": "markdown",
   "metadata": {},
   "source": [
    "Note: The score computed at each iteration is the score method of the estimator. This can be changed by modifying the scoring parameter. e.g. scoring='adjusted_rand_score'"
   ]
  },
  {
   "cell_type": "markdown",
   "metadata": {},
   "source": [
    "# Data Leakage"
   ]
  },
  {
   "cell_type": "markdown",
   "metadata": {},
   "source": [
    "One of the most important concepts surrounding model building is data leakage. This relates to notion that a model - originally appearing as accurate - quickly deteriorates due to a lack of data that was previously available during model building.<br>\n",
    "In particular, Leaky Predictors and Leaky Validation Strategies are two types of ways data leakage can occur.<br><br>\n",
    "<b>Leaky Predictors</b> are predictors that contain data that will no longer be available once the model is running. For example, any predictors that change <b><u>after</u></b> the input of other predictors will not be available at the time of prediction making. i.e. <i>\"any variable updated (or created) after the target value is realized should be excluded\"</i><br><br>\n",
    "<b>Leaky Validation Strategy</b> highlights the mismanagement of validation data. That is, care has not been taken to distinguish between training and testing data. One important characteristic to look out for is leaky predictors, which frequently have high statistical correlations to the target.\n",
    "- Ensure to exclude validation data from any fitting, including fitting of preprocessing steps\n",
    "- In cross-validation methods, ensure that preprocessing takes place inside a pipeline.\n",
    "\n"
   ]
  },
  {
   "cell_type": "code",
   "execution_count": 97,
   "metadata": {},
   "outputs": [
    {
     "name": "stdout",
     "output_type": "stream",
     "text": [
      "Mean Absolute Error : 281336.7099369428\n",
      "Accuracy : 0.8722185982459955\n"
     ]
    }
   ],
   "source": [
    "df=melbourne_data.select_dtypes(exclude=['object'])\n",
    "y = df.Price\n",
    "X = df.drop(['Price'], axis=1)\n",
    "train_X, test_X, train_y, test_y = train_test_split(X, y,random_state=0)\n",
    "\n",
    "my_imputer = Imputer()\n",
    "train_X = my_imputer.fit_transform(train_X)\n",
    "test_X = my_imputer.transform(test_X)\n",
    "\n",
    "my_model = RandomForestClassifier(random_state=0)\n",
    "my_model.fit(train_X, train_y)\n",
    "\n",
    "predictions = my_model.predict(test_X)\n",
    "print(\"Mean Absolute Error : \" + str(mean_absolute_error(predictions, test_y)))\n",
    "print(\"Accuracy : \" + str(my_model.score(train_X, train_y)))"
   ]
  },
  {
   "cell_type": "code",
   "execution_count": 93,
   "metadata": {},
   "outputs": [
    {
     "data": {
      "text/plain": [
       "array([0.00885897, 0.01274562, 0.01073105])"
      ]
     },
     "execution_count": 93,
     "metadata": {},
     "output_type": "execute_result"
    }
   ],
   "source": [
    "cv_scores"
   ]
  },
  {
   "cell_type": "code",
   "execution_count": 94,
   "metadata": {},
   "outputs": [
    {
     "data": {
      "text/plain": [
       "0.8722185982459955"
      ]
     },
     "execution_count": 94,
     "metadata": {},
     "output_type": "execute_result"
    }
   ],
   "source": [
    "my_model.score(train_X, train_y)"
   ]
  },
  {
   "cell_type": "code",
   "execution_count": 96,
   "metadata": {},
   "outputs": [
    {
     "data": {
      "text/plain": [
       "0.988056810845707"
      ]
     },
     "execution_count": 96,
     "metadata": {},
     "output_type": "execute_result"
    }
   ],
   "source": [
    "my_model = RandomForestClassifier(random_state=0)\n",
    "my_model.fit(X, y)\n",
    "my_model.score(X, y)"
   ]
  },
  {
   "cell_type": "markdown",
   "metadata": {},
   "source": [
    "## To Be Continued"
   ]
  },
  {
   "cell_type": "code",
   "execution_count": null,
   "metadata": {},
   "outputs": [],
   "source": []
  }
 ],
 "metadata": {
  "kernelspec": {
   "display_name": "Python 3",
   "language": "python",
   "name": "python3"
  },
  "language_info": {
   "codemirror_mode": {
    "name": "ipython",
    "version": 3
   },
   "file_extension": ".py",
   "mimetype": "text/x-python",
   "name": "python",
   "nbconvert_exporter": "python",
   "pygments_lexer": "ipython3",
   "version": "3.7.0"
  }
 },
 "nbformat": 4,
 "nbformat_minor": 2
}
